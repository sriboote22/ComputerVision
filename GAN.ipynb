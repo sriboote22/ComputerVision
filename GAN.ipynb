{
 "cells": [
  {
   "cell_type": "code",
   "execution_count": 11,
   "metadata": {},
   "outputs": [],
   "source": [
    "import torch\n",
    "import torch.nn as nn\n",
    "import torch.optim as optim\n",
    "from torchvision import datasets, transforms\n",
    "from torch.utils.data import DataLoader"
   ]
  },
  {
   "cell_type": "code",
   "execution_count": null,
   "metadata": {},
   "outputs": [],
   "source": [
    "latent_dim = 100\n",
    "batch_size = 16 \n",
    "epochs = 50\n",
    "device = torch.device(\"cuda\" if torch.cuda.is_available() else \"cpu\")"
   ]
  },
  {
   "cell_type": "code",
   "execution_count": 13,
   "metadata": {},
   "outputs": [],
   "source": [
    "transform = transforms.Compose([\n",
    "    transforms.ToTensor(),\n",
    "    transforms.Normalize((0.5,), (0.5,))\n",
    "])\n",
    "mnist = datasets.MNIST(root='./data', train=True, download=True, transform=transform)\n",
    "dataloader = DataLoader(mnist, batch_size=batch_size, shuffle=True)"
   ]
  },
  {
   "cell_type": "code",
   "execution_count": 14,
   "metadata": {},
   "outputs": [],
   "source": [
    "class Generator(nn.Module):\n",
    "    def __init__(self, latent_dim):\n",
    "        super(Generator, self).__init__()\n",
    "        self.model = nn.Sequential(\n",
    "            nn.Linear(latent_dim, 128),\n",
    "            nn.LeakyReLU(0.2),\n",
    "            nn.Linear(128, 256),\n",
    "            nn.LeakyReLU(0.2),\n",
    "            nn.Linear(256, 512),\n",
    "            nn.LeakyReLU(0.2),\n",
    "            nn.Linear(512, 784),\n",
    "            nn.Tanh()\n",
    "        )\n",
    "\n",
    "    def forward(self, z):\n",
    "        img = self.model(z)\n",
    "        img = img.view(img.size(0), 1, 28, 28)\n",
    "        return img"
   ]
  },
  {
   "cell_type": "code",
   "execution_count": 15,
   "metadata": {},
   "outputs": [],
   "source": [
    "class Discriminator(nn.Module):\n",
    "    def __init__(self):\n",
    "        super(Discriminator, self).__init__()\n",
    "        self.model = nn.Sequential(\n",
    "            nn.Linear(784, 512),\n",
    "            nn.LeakyReLU(0.2),\n",
    "            nn.Linear(512, 256),\n",
    "            nn.LeakyReLU(0.2),\n",
    "            nn.Linear(256, 1),\n",
    "            nn.Sigmoid()\n",
    "        )\n",
    "\n",
    "    def forward(self, img):\n",
    "        img_flat = img.view(img.size(0), -1)\n",
    "        validity = self.model(img_flat)\n",
    "        return validity"
   ]
  },
  {
   "cell_type": "code",
   "execution_count": 16,
   "metadata": {},
   "outputs": [],
   "source": [
    "generator = Generator(latent_dim).to(device)\n",
    "discriminator = Discriminator().to(device)\n"
   ]
  },
  {
   "cell_type": "code",
   "execution_count": 17,
   "metadata": {},
   "outputs": [],
   "source": [
    "\n",
    "adversarial_loss = nn.BCELoss()\n",
    "optimizer_G = optim.Adam(generator.parameters(), lr=0.0002)\n",
    "optimizer_D = optim.Adam(discriminator.parameters(), lr=0.0002)"
   ]
  },
  {
   "cell_type": "code",
   "execution_count": 18,
   "metadata": {},
   "outputs": [
    {
     "name": "stdout",
     "output_type": "stream",
     "text": [
      "Epoch 0/50 | D Loss: 0.14756734669208527 | G Loss: 2.4448959827423096\n",
      "Epoch 1/50 | D Loss: 0.3201538324356079 | G Loss: 2.90340518951416\n",
      "Epoch 2/50 | D Loss: 0.24842216074466705 | G Loss: 3.116610527038574\n",
      "Epoch 3/50 | D Loss: 0.10871268808841705 | G Loss: 2.29579496383667\n",
      "Epoch 4/50 | D Loss: 0.1701996624469757 | G Loss: 2.7274575233459473\n",
      "Epoch 5/50 | D Loss: 0.5666412115097046 | G Loss: 1.0176899433135986\n",
      "Epoch 6/50 | D Loss: 0.38415825366973877 | G Loss: 1.2321972846984863\n",
      "Epoch 7/50 | D Loss: 0.384369432926178 | G Loss: 2.265965223312378\n",
      "Epoch 8/50 | D Loss: 0.45919880270957947 | G Loss: 1.8178613185882568\n",
      "Epoch 9/50 | D Loss: 0.4210612177848816 | G Loss: 1.8590108156204224\n",
      "Epoch 10/50 | D Loss: 0.529327392578125 | G Loss: 0.7689390182495117\n",
      "Epoch 11/50 | D Loss: 0.503126323223114 | G Loss: 1.5735892057418823\n",
      "Epoch 12/50 | D Loss: 0.5579376220703125 | G Loss: 1.4886122941970825\n",
      "Epoch 13/50 | D Loss: 0.4368644654750824 | G Loss: 1.4453539848327637\n",
      "Epoch 14/50 | D Loss: 0.5895986557006836 | G Loss: 0.9588882923126221\n",
      "Epoch 15/50 | D Loss: 0.4331683814525604 | G Loss: 1.3945956230163574\n",
      "Epoch 16/50 | D Loss: 0.5401772260665894 | G Loss: 1.3117271661758423\n",
      "Epoch 17/50 | D Loss: 0.5248535871505737 | G Loss: 1.5850242376327515\n",
      "Epoch 18/50 | D Loss: 0.7377303838729858 | G Loss: 0.6497611403465271\n",
      "Epoch 19/50 | D Loss: 0.42323219776153564 | G Loss: 1.1590275764465332\n",
      "Epoch 20/50 | D Loss: 0.5102764368057251 | G Loss: 1.6420984268188477\n",
      "Epoch 21/50 | D Loss: 0.5625826716423035 | G Loss: 1.0415987968444824\n",
      "Epoch 22/50 | D Loss: 0.5027261972427368 | G Loss: 1.0319123268127441\n",
      "Epoch 23/50 | D Loss: 0.5507799386978149 | G Loss: 1.345051646232605\n",
      "Epoch 24/50 | D Loss: 0.3620487451553345 | G Loss: 1.271139144897461\n",
      "Epoch 25/50 | D Loss: 0.5705543756484985 | G Loss: 1.0502424240112305\n",
      "Epoch 26/50 | D Loss: 0.5146387815475464 | G Loss: 1.1673483848571777\n",
      "Epoch 27/50 | D Loss: 0.6072193384170532 | G Loss: 1.3938484191894531\n",
      "Epoch 28/50 | D Loss: 0.5227838158607483 | G Loss: 1.0045610666275024\n",
      "Epoch 29/50 | D Loss: 0.7808958292007446 | G Loss: 1.2191600799560547\n",
      "Epoch 30/50 | D Loss: 0.5364547967910767 | G Loss: 1.3446407318115234\n",
      "Epoch 31/50 | D Loss: 0.632185697555542 | G Loss: 0.6483865976333618\n",
      "Epoch 32/50 | D Loss: 0.4262627363204956 | G Loss: 1.2799246311187744\n",
      "Epoch 33/50 | D Loss: 0.774437665939331 | G Loss: 0.9284949898719788\n",
      "Epoch 34/50 | D Loss: 0.68941330909729 | G Loss: 0.7658655643463135\n",
      "Epoch 35/50 | D Loss: 0.5970765948295593 | G Loss: 1.1974055767059326\n",
      "Epoch 36/50 | D Loss: 0.6763749122619629 | G Loss: 1.445494294166565\n",
      "Epoch 37/50 | D Loss: 0.5044081211090088 | G Loss: 1.1952755451202393\n",
      "Epoch 38/50 | D Loss: 0.6413171291351318 | G Loss: 1.1625792980194092\n",
      "Epoch 39/50 | D Loss: 0.578280508518219 | G Loss: 1.6124796867370605\n",
      "Epoch 40/50 | D Loss: 0.5581725835800171 | G Loss: 1.3313746452331543\n",
      "Epoch 41/50 | D Loss: 0.6830170750617981 | G Loss: 1.0896306037902832\n",
      "Epoch 42/50 | D Loss: 0.6090848445892334 | G Loss: 1.073360800743103\n",
      "Epoch 43/50 | D Loss: 0.6345130801200867 | G Loss: 1.2499315738677979\n",
      "Epoch 44/50 | D Loss: 0.4452802836894989 | G Loss: 1.332227110862732\n",
      "Epoch 45/50 | D Loss: 0.5577619075775146 | G Loss: 0.8968855142593384\n",
      "Epoch 46/50 | D Loss: 0.44000333547592163 | G Loss: 0.9911857843399048\n",
      "Epoch 47/50 | D Loss: 0.4746803939342499 | G Loss: 1.241248607635498\n",
      "Epoch 48/50 | D Loss: 0.4957486689090729 | G Loss: 1.3348197937011719\n",
      "Epoch 49/50 | D Loss: 0.49156510829925537 | G Loss: 1.2324568033218384\n"
     ]
    }
   ],
   "source": [
    "for epoch in range(epochs):\n",
    "    for i, (imgs, _) in enumerate(dataloader):\n",
    "        real_imgs = imgs.to(device)\n",
    "        batch_size = real_imgs.size(0)\n",
    "\n",
    "        # Labels\n",
    "        real = torch.ones(batch_size, 1).to(device)\n",
    "        fake = torch.zeros(batch_size, 1).to(device)\n",
    "\n",
    "        # Train Generator\n",
    "        optimizer_G.zero_grad()\n",
    "        z = torch.randn(batch_size, latent_dim).to(device)\n",
    "        gen_imgs = generator(z)\n",
    "        g_loss = adversarial_loss(discriminator(gen_imgs), real)\n",
    "        g_loss.backward()\n",
    "        optimizer_G.step()\n",
    "\n",
    "        # Train Discriminator\n",
    "        optimizer_D.zero_grad()\n",
    "        real_loss = adversarial_loss(discriminator(real_imgs), real)\n",
    "        fake_loss = adversarial_loss(discriminator(gen_imgs.detach()), fake)\n",
    "        d_loss = (real_loss + fake_loss) / 2\n",
    "        d_loss.backward()\n",
    "        optimizer_D.step()\n",
    "\n",
    "    print(f\"Epoch {epoch}/{epochs} | D Loss: {d_loss.item()} | G Loss: {g_loss.item()}\")\n",
    "\n"
   ]
  },
  {
   "cell_type": "code",
   "execution_count": 19,
   "metadata": {},
   "outputs": [],
   "source": [
    "z = torch.randn(16, latent_dim).to(device)\n",
    "generated_imgs = generator(z).detach().cpu()"
   ]
  },
  {
   "cell_type": "code",
   "execution_count": 20,
   "metadata": {},
   "outputs": [
    {
     "data": {
      "image/png": "[encoded data removed]",
      "text/plain": [
       "<Figure size 640x480 with 1 Axes>"
      ]
     },
     "metadata": {},
     "output_type": "display_data"
    }
   ],
   "source": [
    "import matplotlib.pyplot as plt\n",
    "grid_img = torch.cat([img for img in generated_imgs], dim=2).squeeze()\n",
    "plt.imshow(grid_img.numpy(), cmap='gray')\n",
    "plt.show()"
   ]
  },
  {
   "cell_type": "code",
   "execution_count": null,
   "metadata": {},
   "outputs": [],
   "source": []
  }
 ],
 "metadata": {
  "kernelspec": {
   "display_name": "opencv-env",
   "language": "python",
   "name": "opencv-env"
  },
  "language_info": {
   "codemirror_mode": {
    "name": "ipython",
    "version": 3
   },
   "file_extension": ".py",
   "mimetype": "text/x-python",
   "name": "python",
   "nbconvert_exporter": "python",
   "pygments_lexer": "ipython3",
   "version": "3.10.11"
  }
 },
 "nbformat": 4,
 "nbformat_minor": 2
}
